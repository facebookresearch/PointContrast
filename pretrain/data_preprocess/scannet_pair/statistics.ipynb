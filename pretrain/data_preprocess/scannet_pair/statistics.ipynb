{
 "cells": [
  {
   "cell_type": "code",
   "execution_count": 3,
   "metadata": {},
   "outputs": [
    {
     "name": "stdout",
     "output_type": "stream",
     "text": [
      "1511\n"
     ]
    }
   ],
   "source": [
    "import glob, os\n",
    "\n",
    "home_dir = \"/private/home/jgu/data/3d_ssl2/ScannetScan/data_f25\"\n",
    "overlaps = glob.glob(os.path.join(home_dir, \"*/pcd/overlap.txt\"))\n",
    "print(len(overlaps))"
   ]
  },
  {
   "cell_type": "code",
   "execution_count": 5,
   "metadata": {},
   "outputs": [
    {
     "name": "stdout",
     "output_type": "stream",
     "text": [
      "done\n"
     ]
    }
   ],
   "source": [
    "with open(os.path.join(home_dir, 'overlap-30.txt'), 'w') as f:\n",
    "    for fo in overlaps:\n",
    "        for line in open(fo):\n",
    "            pcd0, pcd1, op = line.strip().split()\n",
    "            if float(op) >= 0.3:\n",
    "                print('{} {} {}'.format(pcd0, pcd1, op), file=f)\n",
    "print('done')"
   ]
  },
  {
   "cell_type": "code",
   "execution_count": 7,
   "metadata": {},
   "outputs": [
    {
     "name": "stdout",
     "output_type": "stream",
     "text": [
      "843702\n"
     ]
    }
   ],
   "source": [
    "print(len(open(os.path.join(home_dir, 'overlap-30.txt')).readlines()))"
   ]
  },
  {
   "cell_type": "code",
   "execution_count": 8,
   "metadata": {},
   "outputs": [
    {
     "name": "stdout",
     "output_type": "stream",
     "text": [
      "/private/home/jgu/data/3d_ssl2/ScannetScan/data_f25/overlap-30.txt\n"
     ]
    }
   ],
   "source": [
    "print(os.path.join(home_dir, 'overlap-30.txt'))"
   ]
  },
  {
   "cell_type": "code",
   "execution_count": null,
   "metadata": {},
   "outputs": [],
   "source": []
  }
 ],
 "metadata": {
  "kernelspec": {
   "display_name": "Python 3",
   "language": "python",
   "name": "python3"
  },
  "language_info": {
   "codemirror_mode": {
    "name": "ipython",
    "version": 3
   },
   "file_extension": ".py",
   "mimetype": "text/x-python",
   "name": "python",
   "nbconvert_exporter": "python",
   "pygments_lexer": "ipython3",
   "version": "3.6.9"
  }
 },
 "nbformat": 4,
 "nbformat_minor": 4
}
